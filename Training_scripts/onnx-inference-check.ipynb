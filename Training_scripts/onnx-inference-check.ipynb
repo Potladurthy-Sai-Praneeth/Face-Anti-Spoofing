{
 "cells": [
  {
   "cell_type": "code",
   "execution_count": 1,
   "metadata": {
    "execution": {
     "iopub.execute_input": "2024-12-24T21:05:15.786423Z",
     "iopub.status.busy": "2024-12-24T21:05:15.786137Z",
     "iopub.status.idle": "2024-12-24T21:05:25.502117Z",
     "shell.execute_reply": "2024-12-24T21:05:25.501157Z",
     "shell.execute_reply.started": "2024-12-24T21:05:15.786401Z"
    },
    "trusted": true
   },
   "outputs": [
    {
     "name": "stdout",
     "output_type": "stream",
     "text": [
      "Requirement already satisfied: onnx in /usr/local/lib/python3.10/dist-packages (1.17.0)\n",
      "Requirement already satisfied: numpy>=1.20 in /usr/local/lib/python3.10/dist-packages (from onnx) (1.26.4)\n",
      "Requirement already satisfied: protobuf>=3.20.2 in /usr/local/lib/python3.10/dist-packages (from onnx) (3.20.3)\n",
      "Collecting onnxruntime\n",
      "  Downloading onnxruntime-1.20.1-cp310-cp310-manylinux_2_27_x86_64.manylinux_2_28_x86_64.whl.metadata (4.5 kB)\n",
      "Collecting coloredlogs (from onnxruntime)\n",
      "  Downloading coloredlogs-15.0.1-py2.py3-none-any.whl.metadata (12 kB)\n",
      "Requirement already satisfied: flatbuffers in /usr/local/lib/python3.10/dist-packages (from onnxruntime) (24.3.25)\n",
      "Requirement already satisfied: numpy>=1.21.6 in /usr/local/lib/python3.10/dist-packages (from onnxruntime) (1.26.4)\n",
      "Requirement already satisfied: packaging in /usr/local/lib/python3.10/dist-packages (from onnxruntime) (24.1)\n",
      "Requirement already satisfied: protobuf in /usr/local/lib/python3.10/dist-packages (from onnxruntime) (3.20.3)\n",
      "Requirement already satisfied: sympy in /usr/local/lib/python3.10/dist-packages (from onnxruntime) (1.13.3)\n",
      "Collecting humanfriendly>=9.1 (from coloredlogs->onnxruntime)\n",
      "  Downloading humanfriendly-10.0-py2.py3-none-any.whl.metadata (9.2 kB)\n",
      "Requirement already satisfied: mpmath<1.4,>=1.1.0 in /usr/local/lib/python3.10/dist-packages (from sympy->onnxruntime) (1.3.0)\n",
      "Downloading onnxruntime-1.20.1-cp310-cp310-manylinux_2_27_x86_64.manylinux_2_28_x86_64.whl (13.3 MB)\n",
      "\u001b[2K   \u001b[90m━━━━━━━━━━━━━━━━━━━━━━━━━━━━━━━━━━━━━━━━\u001b[0m \u001b[32m13.3/13.3 MB\u001b[0m \u001b[31m90.6 MB/s\u001b[0m eta \u001b[36m0:00:00\u001b[0m:00:01\u001b[0m:01\u001b[0m\n",
      "\u001b[?25hDownloading coloredlogs-15.0.1-py2.py3-none-any.whl (46 kB)\n",
      "\u001b[2K   \u001b[90m━━━━━━━━━━━━━━━━━━━━━━━━━━━━━━━━━━━━━━━━\u001b[0m \u001b[32m46.0/46.0 kB\u001b[0m \u001b[31m2.9 MB/s\u001b[0m eta \u001b[36m0:00:00\u001b[0m\n",
      "\u001b[?25hDownloading humanfriendly-10.0-py2.py3-none-any.whl (86 kB)\n",
      "\u001b[2K   \u001b[90m━━━━━━━━━━━━━━━━━━━━━━━━━━━━━━━━━━━━━━━━\u001b[0m \u001b[32m86.8/86.8 kB\u001b[0m \u001b[31m5.1 MB/s\u001b[0m eta \u001b[36m0:00:00\u001b[0m\n",
      "\u001b[?25hInstalling collected packages: humanfriendly, coloredlogs, onnxruntime\n",
      "Successfully installed coloredlogs-15.0.1 humanfriendly-10.0 onnxruntime-1.20.1\n"
     ]
    }
   ],
   "source": [
    "! pip install onnx \n",
    "! pip install onnxruntime"
   ]
  },
  {
   "cell_type": "code",
   "execution_count": 2,
   "metadata": {
    "execution": {
     "iopub.execute_input": "2024-12-24T21:05:25.503917Z",
     "iopub.status.busy": "2024-12-24T21:05:25.503547Z",
     "iopub.status.idle": "2024-12-24T21:05:38.230231Z",
     "shell.execute_reply": "2024-12-24T21:05:38.229489Z",
     "shell.execute_reply.started": "2024-12-24T21:05:25.503870Z"
    },
    "trusted": true
   },
   "outputs": [],
   "source": [
    "import torch\n",
    "import torch.nn as nn\n",
    "import torch.nn.functional as F\n",
    "import torch.optim as optim\n",
    "import numpy as np\n",
    "import random\n",
    "import time\n",
    "import os\n",
    "import sys\n",
    "from torch.utils.data import DataLoader, Dataset\n",
    "import math\n",
    "from torchvision.transforms import v2\n",
    "from PIL import Image\n",
    "import matplotlib.pyplot as plt\n",
    "import cv2\n",
    "from torch.autograd import Variable\n",
    "from torchvision import models,transforms\n",
    "from transformers import pipeline\n",
    "import torchvision.transforms.functional as TF\n",
    "import onnx\n",
    "import onnxruntime\n",
    "from onnxruntime.quantization import quantize_dynamic, quantize_static, QuantType, QuantFormat, create_calibrator, CalibrationMethod, CalibrationDataReader\n",
    "from transformers import AutoImageProcessor, AutoModelForDepthEstimation, AutoConfig\n",
    "from sklearn.metrics import confusion_matrix, ConfusionMatrixDisplay"
   ]
  },
  {
   "cell_type": "code",
   "execution_count": 3,
   "metadata": {
    "execution": {
     "iopub.execute_input": "2024-12-24T21:05:38.232351Z",
     "iopub.status.busy": "2024-12-24T21:05:38.231809Z",
     "iopub.status.idle": "2024-12-24T21:05:38.238785Z",
     "shell.execute_reply": "2024-12-24T21:05:38.237975Z",
     "shell.execute_reply.started": "2024-12-24T21:05:38.232329Z"
    },
    "trusted": true
   },
   "outputs": [],
   "source": [
    "class CustomDataset(Dataset): \n",
    "    \n",
    "    def __init__(self, path, device, transform=None, img_size=(128, 128)):\n",
    "        super(CustomDataset, self).__init__()\n",
    "        self.device = device\n",
    "        self.images = []\n",
    "        self.labels = []\n",
    "        self.img_size = img_size\n",
    "        self.transform = transform\n",
    "        self.path = path\n",
    "        self.num_channels = 1\n",
    "        \n",
    "        for folder in os.listdir(self.path):\n",
    "            label = 1 if 'client' in folder else 0\n",
    "            for image in os.listdir(os.path.join(self.path, folder)):\n",
    "                if image.endswith('.jpg') or image.endswith('.png'):\n",
    "                    img_path = os.path.join(self.path, folder, image)\n",
    "                    self.images.append(img_path)\n",
    "                    self.labels.append(label)\n",
    "        \n",
    "    def __len__(self):\n",
    "        return len(self.images)\n",
    "\n",
    "    def __getitem__(self, idx):\n",
    "        img = Image.open(self.images[idx]).convert(\"RGB\")\n",
    "\n",
    "        if self.transform:\n",
    "            img= self.transform(img)\n",
    "            \n",
    "        return img, self.labels[idx]"
   ]
  },
  {
   "cell_type": "code",
   "execution_count": 4,
   "metadata": {
    "execution": {
     "iopub.execute_input": "2024-12-24T21:05:38.240315Z",
     "iopub.status.busy": "2024-12-24T21:05:38.240132Z",
     "iopub.status.idle": "2024-12-24T21:05:38.381514Z",
     "shell.execute_reply": "2024-12-24T21:05:38.380506Z",
     "shell.execute_reply.started": "2024-12-24T21:05:38.240299Z"
    },
    "trusted": true
   },
   "outputs": [],
   "source": [
    "img_size = (252, 252)\n",
    "batch_size = 10\n",
    "transf = transforms.Compose([\n",
    "    transforms.RandomHorizontalFlip(),\n",
    "    transforms.RandomRotation(20),\n",
    "    transforms.ColorJitter(brightness=0.5, contrast=0.5, saturation=0.5, hue=0.1),\n",
    "    transforms.Resize(img_size),\n",
    "    transforms.ToTensor()\n",
    "])\n",
    "\n",
    "device = torch.device(\"cuda\" if torch.cuda.is_available() else \"cpu\")\n",
    "# device = torch.device('cpu')\n",
    "\n",
    "test_dataset = CustomDataset(\"/kaggle/input/increased-liveliness-detection/test\",device,transf,img_size=img_size)\n",
    "test_loader = DataLoader(test_dataset,batch_size=batch_size,shuffle=True)"
   ]
  },
  {
   "cell_type": "code",
   "execution_count": 5,
   "metadata": {
    "execution": {
     "iopub.execute_input": "2024-12-24T21:05:38.382848Z",
     "iopub.status.busy": "2024-12-24T21:05:38.382540Z",
     "iopub.status.idle": "2024-12-24T21:05:38.389698Z",
     "shell.execute_reply": "2024-12-24T21:05:38.388728Z",
     "shell.execute_reply.started": "2024-12-24T21:05:38.382817Z"
    },
    "trusted": true
   },
   "outputs": [],
   "source": [
    "class FineTuneDepthAnything(nn.Module):\n",
    "    def __init__(self, device,load_trained=False,model_path=None):\n",
    "        super(FineTuneDepthAnything, self).__init__()\n",
    "        if load_trained:\n",
    "            config = AutoConfig.from_pretrained(\"depth-anything/Depth-Anything-V2-Small-hf\")\n",
    "            self.depth_anything = AutoModelForDepthEstimation.from_config(config)\n",
    "            state_dict = torch.load(model_path, map_location=device,weights_only=True)\n",
    "                \n",
    "            # Adjust keys in the state dictionary to match the model's keys\n",
    "            new_state_dict = {}\n",
    "            for key, value in state_dict.items():\n",
    "                new_key = key.replace(\"depth_anything.\", \"\")\n",
    "                new_state_dict[new_key] = value\n",
    "\n",
    "            # Load the adjusted state dictionary into the model\n",
    "            self.depth_anything.load_state_dict(new_state_dict)\n",
    "        else:\n",
    "            self.depth_anything = AutoModelForDepthEstimation.from_pretrained(\"depth-anything/Depth-Anything-V2-Small-hf\")\n",
    "            for name,param in self.depth_anything.named_parameters():\n",
    "                if 'head' in name or 'neck.fusion_stage.layers.2.residual_layer' in name or 'neck.fusion_stage.layers.3' in name:\n",
    "                    param.requires_grad = True\n",
    "                else:\n",
    "                    param.requires_grad = False\n",
    "        \n",
    "        self.depth_anything = self.depth_anything.to(device)\n",
    "                \n",
    "    def forward(self, inp):\n",
    "        # print(f'inp shape: {inp.shape}')\n",
    "        return self.depth_anything(inp).predicted_depth.unsqueeze(1)"
   ]
  },
  {
   "cell_type": "code",
   "execution_count": 6,
   "metadata": {
    "execution": {
     "iopub.execute_input": "2024-12-24T21:05:38.390730Z",
     "iopub.status.busy": "2024-12-24T21:05:38.390494Z",
     "iopub.status.idle": "2024-12-24T21:05:38.409573Z",
     "shell.execute_reply": "2024-12-24T21:05:38.408833Z",
     "shell.execute_reply.started": "2024-12-24T21:05:38.390710Z"
    },
    "trusted": true
   },
   "outputs": [],
   "source": [
    "class CDC(nn.Module):\n",
    "    '''\n",
    "    This class performs central difference convolution (CDC) operation. First the normal convolution is performed and then the difference convolution is performed. The output is the difference between the two is taken.\n",
    "    '''\n",
    "    def __init__(self, in_channels, out_channels, kernel_size=3, stride=1,\n",
    "                 padding=1, dilation=1, groups=1, bias=False, theta=0.7):\n",
    "\n",
    "        super(CDC, self).__init__()\n",
    "        self.bias= bias\n",
    "        self.stride = stride\n",
    "        self.groups = groups\n",
    "        self.dilation = dilation\n",
    "        self.theta = theta\n",
    "        self.padding = padding\n",
    "        if bias:\n",
    "            self.bias = nn.Parameter(torch.zeros(out_channels))\n",
    "        else:\n",
    "            self.bias = None\n",
    "            \n",
    "        self.conv = nn.Conv2d(in_channels, out_channels, kernel_size=kernel_size, stride=stride, padding=padding if kernel_size==3 else 0, dilation=dilation, groups=groups, bias=bias)\n",
    "\n",
    "    def forward(self, x):\n",
    "        out_normal = self.conv(x)\n",
    "        # if conv.weight is (out_channels, in_channels, kernel_size, kernel_size),\n",
    "        # then the  self.conv.weight.sum(2) will return (out_channels, in_channels,kernel_size)\n",
    "        # and self.conv.weight.sum(2).sum(2) will return (out_channels,n_channels)\n",
    "        kernel_diff = self.conv.weight.sum(2).sum(2)\n",
    "        # Here we are adding extra dimensions such that the kernel_diff is of shape (out_channels, in_channels, 1, 1) so that convolution can be performed.\n",
    "        kernel_diff = kernel_diff[:, :, None, None]\n",
    "        out_diff = F.conv2d(input=x, weight=kernel_diff, bias=self.bias, stride=self.stride, padding=0, groups=self.groups)\n",
    "        return out_normal - self.theta * out_diff\n",
    "        "
   ]
  },
  {
   "cell_type": "code",
   "execution_count": 7,
   "metadata": {
    "execution": {
     "iopub.execute_input": "2024-12-24T21:05:38.410914Z",
     "iopub.status.busy": "2024-12-24T21:05:38.410603Z",
     "iopub.status.idle": "2024-12-24T21:05:38.429075Z",
     "shell.execute_reply": "2024-12-24T21:05:38.428421Z",
     "shell.execute_reply.started": "2024-12-24T21:05:38.410865Z"
    },
    "trusted": true
   },
   "outputs": [],
   "source": [
    "class conv_block_nested(nn.Module):\n",
    "    def __init__(self, in_ch,  out_ch):\n",
    "        super(conv_block_nested, self).__init__()\n",
    "        self.activation = nn.ReLU(inplace=True)\n",
    "        self.conv1 = CDC(in_ch, out_ch, kernel_size=3, padding=1, bias=True)\n",
    "        self.bn1 = nn.BatchNorm2d(out_ch)\n",
    "        self.conv2 = CDC(out_ch, out_ch, kernel_size=3, padding=1, bias=True)\n",
    "        self.bn2 = nn.BatchNorm2d(out_ch)\n",
    "\n",
    "    def forward(self, x):\n",
    "        x = self.conv1(x)\n",
    "        x = self.bn1(x)\n",
    "        x = self.activation(x)\n",
    "        \n",
    "        x = self.conv2(x)\n",
    "        x = self.bn2(x)\n",
    "        output = self.activation(x)\n",
    "\n",
    "        return output"
   ]
  },
  {
   "cell_type": "code",
   "execution_count": null,
   "metadata": {
    "execution": {
     "iopub.execute_input": "2024-12-24T21:05:38.431630Z",
     "iopub.status.busy": "2024-12-24T21:05:38.431419Z",
     "iopub.status.idle": "2024-12-24T21:05:38.450976Z",
     "shell.execute_reply": "2024-12-24T21:05:38.450333Z",
     "shell.execute_reply.started": "2024-12-24T21:05:38.431613Z"
    },
    "trusted": true
   },
   "outputs": [],
   "source": [
    "class ClassifierUCDCN(nn.Module):\n",
    "    def __init__(self, dropout=0.5):\n",
    "        super(ClassifierUCDCN, self).__init__()\n",
    "        self.layers =8\n",
    "        self.dropout_prob = dropout\n",
    "        self.img_size = (252, 252)\n",
    "        self.hidden_size = 64\n",
    "        self.conv1 = conv_block_nested(1,self.layers)\n",
    "        self.relu = nn.ReLU()\n",
    "        self.maxpool = nn.AvgPool2d(kernel_size=2,stride=2)\n",
    "        self.conv2 = conv_block_nested(self.layers,1)\n",
    "        # Maxpool\n",
    "        self.linear_1 = nn.Linear((self.img_size[0]//4 * self.img_size[1]//4), self.hidden_size)\n",
    "        self.dropout = nn.Dropout(self.dropout_prob)\n",
    "        self.linear_2 = nn.Linear(self.hidden_size, 2)\n",
    "        self.sigmoid = nn.Sigmoid()\n",
    "    \n",
    "    def forward(self, inp):\n",
    "        conv1 = self.conv1(inp)\n",
    "        maxpool = self.maxpool(conv1)\n",
    "        conv2 = self.conv2(maxpool)\n",
    "        maxpool2 = self.maxpool(conv2)\n",
    "        linear_1 = self.linear_1(maxpool2.view(-1, self.img_size[0]//4 * self.img_size[1]//4))\n",
    "        relu = self.relu(linear_1)\n",
    "        dropout = self.dropout(relu)\n",
    "        linear_2 = self.linear_2(dropout)\n",
    "        return self.sigmoid(linear_2)"
   ]
  },
  {
   "cell_type": "code",
   "execution_count": 9,
   "metadata": {
    "execution": {
     "iopub.execute_input": "2024-12-24T21:05:38.452374Z",
     "iopub.status.busy": "2024-12-24T21:05:38.452174Z",
     "iopub.status.idle": "2024-12-24T21:05:40.712723Z",
     "shell.execute_reply": "2024-12-24T21:05:40.711976Z",
     "shell.execute_reply.started": "2024-12-24T21:05:38.452357Z"
    },
    "trusted": true
   },
   "outputs": [
    {
     "data": {
      "application/vnd.jupyter.widget-view+json": {
       "model_id": "99b0708f2eca4680a15b65f1ca728804",
       "version_major": 2,
       "version_minor": 0
      },
      "text/plain": [
       "config.json:   0%|          | 0.00/950 [00:00<?, ?B/s]"
      ]
     },
     "metadata": {},
     "output_type": "display_data"
    },
    {
     "data": {
      "text/plain": [
       "ClassifierUCDCN(\n",
       "  (conv1): conv_block_nested(\n",
       "    (activation): ReLU(inplace=True)\n",
       "    (conv1): CDC(\n",
       "      (conv): Conv2d(1, 8, kernel_size=(3, 3), stride=(1, 1), padding=(1, 1))\n",
       "    )\n",
       "    (bn1): BatchNorm2d(8, eps=1e-05, momentum=0.1, affine=True, track_running_stats=True)\n",
       "    (conv2): CDC(\n",
       "      (conv): Conv2d(8, 8, kernel_size=(3, 3), stride=(1, 1), padding=(1, 1))\n",
       "    )\n",
       "    (bn2): BatchNorm2d(8, eps=1e-05, momentum=0.1, affine=True, track_running_stats=True)\n",
       "  )\n",
       "  (relu): ReLU()\n",
       "  (maxpool): AvgPool2d(kernel_size=2, stride=2, padding=0)\n",
       "  (conv2): conv_block_nested(\n",
       "    (activation): ReLU(inplace=True)\n",
       "    (conv1): CDC(\n",
       "      (conv): Conv2d(8, 1, kernel_size=(3, 3), stride=(1, 1), padding=(1, 1))\n",
       "    )\n",
       "    (bn1): BatchNorm2d(1, eps=1e-05, momentum=0.1, affine=True, track_running_stats=True)\n",
       "    (conv2): CDC(\n",
       "      (conv): Conv2d(1, 1, kernel_size=(3, 3), stride=(1, 1), padding=(1, 1))\n",
       "    )\n",
       "    (bn2): BatchNorm2d(1, eps=1e-05, momentum=0.1, affine=True, track_running_stats=True)\n",
       "  )\n",
       "  (linear_1): Linear(in_features=3969, out_features=64, bias=True)\n",
       "  (dropout): Dropout(p=0.5, inplace=False)\n",
       "  (linear_2): Linear(in_features=64, out_features=2, bias=True)\n",
       "  (sigmoid): Sigmoid()\n",
       ")"
      ]
     },
     "execution_count": 9,
     "metadata": {},
     "output_type": "execute_result"
    }
   ],
   "source": [
    "depth_map_model = FineTuneDepthAnything(device, load_trained=True, model_path='/kaggle/input/finetune_depth_anything/pytorch/63_epochs_trained/1/fine_tuning_depth_anything.pth').to(device)\n",
    "depth_map_model.eval()\n",
    "classifier = ClassifierUCDCN(dropout=0.5).to(device)\n",
    "classifier.load_state_dict(torch.load('/kaggle/input/finetune_depth_anyhting_classifier/pytorch/64_size_7_epochs_trained/1/64_finetune_depth_anything_classifier.pth',map_location=device,weights_only=True))\n",
    "classifier.eval()"
   ]
  },
  {
   "cell_type": "code",
   "execution_count": 10,
   "metadata": {
    "execution": {
     "iopub.execute_input": "2024-12-24T21:05:40.713804Z",
     "iopub.status.busy": "2024-12-24T21:05:40.713555Z",
     "iopub.status.idle": "2024-12-24T21:05:40.718230Z",
     "shell.execute_reply": "2024-12-24T21:05:40.717218Z",
     "shell.execute_reply.started": "2024-12-24T21:05:40.713782Z"
    },
    "trusted": true
   },
   "outputs": [],
   "source": [
    "def run_inference(session, input_data):\n",
    "    \"\"\"Run inference using ONNX Runtime session\"\"\"\n",
    "    input_name = session.get_inputs()[0].name\n",
    "    output_name = session.get_outputs()[0].name\n",
    "    \n",
    "    result = session.run([output_name], {input_name: input_data})\n",
    "    return result[0]"
   ]
  },
  {
   "cell_type": "code",
   "execution_count": 11,
   "metadata": {
    "execution": {
     "iopub.execute_input": "2024-12-24T21:05:40.719287Z",
     "iopub.status.busy": "2024-12-24T21:05:40.719038Z",
     "iopub.status.idle": "2024-12-24T21:05:40.739699Z",
     "shell.execute_reply": "2024-12-24T21:05:40.739070Z",
     "shell.execute_reply.started": "2024-12-24T21:05:40.719258Z"
    },
    "trusted": true
   },
   "outputs": [],
   "source": [
    "def create_inference_session(quantized_model_path,provider='CPUExecutionProvider'):\n",
    "    \"\"\"Create ONNX Runtime inference session\"\"\"\n",
    "    # Set up ONNX Runtime options for Processor (Raspberry Pi)\n",
    "    options = onnxruntime.SessionOptions()\n",
    "    # options.intra_op_num_threads = 4  # Adjust based on your Raspberry Pi's CPU\n",
    "    options.graph_optimization_level = onnxruntime.GraphOptimizationLevel.ORT_ENABLE_ALL\n",
    "    \n",
    "    # Create inference session\n",
    "    session = onnxruntime.InferenceSession(\n",
    "        quantized_model_path,\n",
    "        options,\n",
    "        providers=[provider]\n",
    "    )\n",
    "    return session"
   ]
  },
  {
   "cell_type": "code",
   "execution_count": null,
   "metadata": {
    "execution": {
     "iopub.execute_input": "2024-12-24T21:05:40.740958Z",
     "iopub.status.busy": "2024-12-24T21:05:40.740625Z",
     "iopub.status.idle": "2024-12-24T21:05:41.843658Z",
     "shell.execute_reply": "2024-12-24T21:05:41.842706Z",
     "shell.execute_reply.started": "2024-12-24T21:05:40.740928Z"
    },
    "trusted": true
   },
   "outputs": [],
   "source": [
    "provider = 'CUDAExecutionProvider'\n",
    "depth_normal_session = create_inference_session('/kaggle/input/m/onnx_models/onnx/64_hidden_quantized/1/depth_map_model.onnx')\n",
    "classifier_normal_session = create_inference_session('/kaggle/input/m/onnx_models/onnx/64_hidden_quantized/1/classifier_model.onnx')"
   ]
  },
  {
   "cell_type": "code",
   "execution_count": null,
   "metadata": {
    "execution": {
     "iopub.execute_input": "2024-12-24T21:05:41.844962Z",
     "iopub.status.busy": "2024-12-24T21:05:41.844632Z",
     "iopub.status.idle": "2024-12-24T21:05:42.129801Z",
     "shell.execute_reply": "2024-12-24T21:05:42.128857Z",
     "shell.execute_reply.started": "2024-12-24T21:05:41.844930Z"
    },
    "trusted": true
   },
   "outputs": [],
   "source": [
    "depth_onnx = onnx.load('/kaggle/input/m/onnx_models/onnx/64_hidden_quantized/1/depth_quantized_model.onnx')\n",
    "onnx.checker.check_model(depth_onnx)"
   ]
  },
  {
   "cell_type": "code",
   "execution_count": null,
   "metadata": {
    "execution": {
     "iopub.execute_input": "2024-12-24T21:05:42.131116Z",
     "iopub.status.busy": "2024-12-24T21:05:42.130798Z",
     "iopub.status.idle": "2024-12-24T21:05:42.146248Z",
     "shell.execute_reply": "2024-12-24T21:05:42.145599Z",
     "shell.execute_reply.started": "2024-12-24T21:05:42.131093Z"
    },
    "trusted": true
   },
   "outputs": [],
   "source": [
    "classifier_onnx = onnx.load('/kaggle/input/m/onnx_models/onnx/64_hidden_quantized/1/classifier_quantized_model.onnx')\n",
    "onnx.checker.check_model(classifier_onnx)"
   ]
  },
  {
   "cell_type": "code",
   "execution_count": null,
   "metadata": {
    "execution": {
     "iopub.execute_input": "2024-12-24T21:06:38.589983Z",
     "iopub.status.busy": "2024-12-24T21:06:38.589633Z",
     "iopub.status.idle": "2024-12-24T21:06:38.900275Z",
     "shell.execute_reply": "2024-12-24T21:06:38.899374Z",
     "shell.execute_reply.started": "2024-12-24T21:06:38.589954Z"
    },
    "trusted": true
   },
   "outputs": [],
   "source": [
    "provider = 'CUDAExecutionProvider'\n",
    "depth_quantized_session = create_inference_session('/kaggle/input/m/onnx_models/onnx/64_hidden_quantized/1/depth_quantized_model.onnx')\n",
    "classifier_quantized_session = create_inference_session('/kaggle/input/m/onnx_models/onnx/64_hidden_quantized/1/classifier_quantized_model.onnx')"
   ]
  },
  {
   "cell_type": "code",
   "execution_count": null,
   "metadata": {
    "execution": {
     "iopub.execute_input": "2024-12-24T21:06:40.948470Z",
     "iopub.status.busy": "2024-12-24T21:06:40.948182Z",
     "iopub.status.idle": "2024-12-24T21:06:40.952438Z",
     "shell.execute_reply": "2024-12-24T21:06:40.951423Z",
     "shell.execute_reply.started": "2024-12-24T21:06:40.948449Z"
    },
    "trusted": true
   },
   "outputs": [],
   "source": [
    "def convert_to_numpy(pt_tensor):\n",
    "    return pt_tensor.numpy()"
   ]
  },
  {
   "cell_type": "code",
   "execution_count": 21,
   "metadata": {
    "execution": {
     "iopub.execute_input": "2024-12-24T21:06:43.131277Z",
     "iopub.status.busy": "2024-12-24T21:06:43.130953Z",
     "iopub.status.idle": "2024-12-24T21:06:43.135979Z",
     "shell.execute_reply": "2024-12-24T21:06:43.135118Z",
     "shell.execute_reply.started": "2024-12-24T21:06:43.131254Z"
    },
    "trusted": true
   },
   "outputs": [],
   "source": [
    "def display_accuracy(correct,total,all_labels,all_predictions,name):\n",
    "    # Calculate accuracy\n",
    "    accuracy = 100 * correct / total\n",
    "    print(f'{name}: Accuracy on the test images: {accuracy:.2f} %')\n",
    "    \n",
    "    # Generate confusion matrix\n",
    "    cm = confusion_matrix(all_labels, all_predictions)\n",
    "    disp = ConfusionMatrixDisplay(confusion_matrix=cm, display_labels=[0, 1])\n",
    "    \n",
    "    # Plot confusion matrix\n",
    "    disp.plot(cmap=plt.cm.Blues)\n",
    "    plt.title(f'{name}: Confusion Matrix')\n",
    "    plt.show()"
   ]
  },
  {
   "cell_type": "code",
   "execution_count": 22,
   "metadata": {
    "execution": {
     "iopub.execute_input": "2024-12-24T21:06:43.699775Z",
     "iopub.status.busy": "2024-12-24T21:06:43.699437Z",
     "iopub.status.idle": "2024-12-24T21:30:27.724118Z",
     "shell.execute_reply": "2024-12-24T21:30:27.723081Z",
     "shell.execute_reply.started": "2024-12-24T21:06:43.699751Z"
    },
    "trusted": true
   },
   "outputs": [],
   "source": [
    "# Pytorch\n",
    "correct_torch = 0\n",
    "total_torch = 0\n",
    "all_labels_torch = []\n",
    "all_predictions_torch = []\n",
    "\n",
    "# ONNX without Qunatization\n",
    "correct_without_quantization = 0\n",
    "total_without_quantization = 0\n",
    "all_labels_without_quantization = []\n",
    "all_predictions_without_quantization = []\n",
    "\n",
    "# ONNX with Quantization\n",
    "correct_with_quantization = 0\n",
    "total_with_quantization = 0\n",
    "all_labels_with_quantization = []\n",
    "all_predictions_with_quantization = []\n",
    "\n",
    "\n",
    "with torch.no_grad():\n",
    "    for data in test_loader:\n",
    "        images, labels = data\n",
    "        images_device, labels_device = images.to(device), labels.to(device)\n",
    "\n",
    "        # Torch\n",
    "        depth_maps = depth_map_model(images_device)\n",
    "        outputs = classifier(depth_maps)\n",
    "        predicted = torch.argmax(outputs, 1)\n",
    "        total_torch += labels_device.size(0)\n",
    "        correct_torch += (predicted == labels_device).sum().item()\n",
    "        all_labels_torch.extend(labels_device.cpu().numpy())\n",
    "        all_predictions_torch.extend(predicted.cpu().numpy())\n",
    "\n",
    "        # Without quantization\n",
    "        without_inputs = {depth_normal_session.get_inputs()[0].name: convert_to_numpy(images)}\n",
    "        without_depth_maps = depth_normal_session.run(None, without_inputs)[0]\n",
    "        map_inputs = {classifier_normal_session.get_inputs()[0].name: without_depth_maps}\n",
    "        without_outputs = classifier_normal_session.run(None,map_inputs)[0]\n",
    "\n",
    "        without_predicted = np.argmax(without_outputs, 1)\n",
    "        total_without_quantization += labels.size(0)\n",
    "        correct_without_quantization += np.sum(without_predicted == convert_to_numpy(labels))\n",
    "        all_labels_without_quantization.extend(labels)\n",
    "        all_predictions_without_quantization.extend(without_predicted)\n",
    "\n",
    "        # With quantization\n",
    "        with_inputs = {depth_quantized_session.get_inputs()[0].name: convert_to_numpy(images)}\n",
    "        with_depth_maps = depth_quantized_session.run(None, with_inputs)[0]\n",
    "\n",
    "        with_map_inputs = {classifier_quantized_session.get_inputs()[0].name: with_depth_maps}\n",
    "        with_outputs = classifier_quantized_session.run(None,with_map_inputs)[0]\n",
    "\n",
    "        with_predicted = np.argmax(with_outputs, 1)\n",
    "        total_with_quantization += labels.size(0)\n",
    "        correct_with_quantization += np.sum(with_predicted == convert_to_numpy(labels))\n",
    "        all_labels_with_quantization.extend(labels)\n",
    "        all_predictions_with_quantization.extend(with_predicted)"
   ]
  },
  {
   "cell_type": "code",
   "execution_count": 23,
   "metadata": {
    "execution": {
     "iopub.execute_input": "2024-12-24T21:30:27.725825Z",
     "iopub.status.busy": "2024-12-24T21:30:27.725462Z",
     "iopub.status.idle": "2024-12-24T21:30:28.008956Z",
     "shell.execute_reply": "2024-12-24T21:30:28.008058Z",
     "shell.execute_reply.started": "2024-12-24T21:30:27.725789Z"
    },
    "trusted": true
   },
   "outputs": [
    {
     "name": "stdout",
     "output_type": "stream",
     "text": [
      "Torch: Accuracy on the test images: 94.44 %\n"
     ]
    },
    {
     "data": {
      "image/png": "[encoded data removed]",
      "text/plain": [
       "<Figure size 640x480 with 2 Axes>"
      ]
     },
     "metadata": {},
     "output_type": "display_data"
    }
   ],
   "source": [
    "display_accuracy(correct_torch,total_torch,all_labels_torch,all_predictions_torch,'Torch')"
   ]
  },
  {
   "cell_type": "code",
   "execution_count": 24,
   "metadata": {
    "execution": {
     "iopub.execute_input": "2024-12-24T21:30:28.010609Z",
     "iopub.status.busy": "2024-12-24T21:30:28.010342Z",
     "iopub.status.idle": "2024-12-24T21:30:28.227671Z",
     "shell.execute_reply": "2024-12-24T21:30:28.226020Z",
     "shell.execute_reply.started": "2024-12-24T21:30:28.010587Z"
    },
    "trusted": true
   },
   "outputs": [
    {
     "name": "stdout",
     "output_type": "stream",
     "text": [
      "ONNX without quantization: Accuracy on the test images: 94.44 %\n"
     ]
    },
    {
     "data": {
      "image/png": "[encoded data removed]",
      "text/plain": [
       "<Figure size 640x480 with 2 Axes>"
      ]
     },
     "metadata": {},
     "output_type": "display_data"
    }
   ],
   "source": [
    "display_accuracy(correct_without_quantization,total_without_quantization,all_labels_without_quantization,all_predictions_without_quantization,'ONNX without quantization')"
   ]
  },
  {
   "cell_type": "code",
   "execution_count": 25,
   "metadata": {
    "execution": {
     "iopub.execute_input": "2024-12-24T21:30:28.230041Z",
     "iopub.status.busy": "2024-12-24T21:30:28.229420Z",
     "iopub.status.idle": "2024-12-24T21:30:28.532385Z",
     "shell.execute_reply": "2024-12-24T21:30:28.531367Z",
     "shell.execute_reply.started": "2024-12-24T21:30:28.229996Z"
    },
    "trusted": true
   },
   "outputs": [
    {
     "name": "stdout",
     "output_type": "stream",
     "text": [
      "ONNX with quantization: Accuracy on the test images: 94.97 %\n"
     ]
    },
    {
     "data": {
      "image/png": "[encoded data removed]",
      "text/plain": [
       "<Figure size 640x480 with 2 Axes>"
      ]
     },
     "metadata": {},
     "output_type": "display_data"
    }
   ],
   "source": [
    "display_accuracy(correct_with_quantization,total_with_quantization,all_labels_with_quantization,all_predictions_with_quantization,'ONNX with quantization')"
   ]
  },
  {
   "cell_type": "code",
   "execution_count": null,
   "metadata": {
    "trusted": true
   },
   "outputs": [],
   "source": []
  },
  {
   "cell_type": "code",
   "execution_count": null,
   "metadata": {
    "trusted": true
   },
   "outputs": [],
   "source": []
  },
  {
   "cell_type": "code",
   "execution_count": null,
   "metadata": {
    "trusted": true
   },
   "outputs": [],
   "source": []
  },
  {
   "cell_type": "code",
   "execution_count": null,
   "metadata": {
    "trusted": true
   },
   "outputs": [],
   "source": []
  },
  {
   "cell_type": "code",
   "execution_count": null,
   "metadata": {
    "trusted": true
   },
   "outputs": [],
   "source": []
  },
  {
   "cell_type": "code",
   "execution_count": null,
   "metadata": {
    "trusted": true
   },
   "outputs": [],
   "source": []
  },
  {
   "cell_type": "code",
   "execution_count": null,
   "metadata": {
    "trusted": true
   },
   "outputs": [],
   "source": []
  },
  {
   "cell_type": "code",
   "execution_count": null,
   "metadata": {
    "trusted": true
   },
   "outputs": [],
   "source": []
  },
  {
   "cell_type": "code",
   "execution_count": null,
   "metadata": {
    "trusted": true
   },
   "outputs": [],
   "source": []
  },
  {
   "cell_type": "code",
   "execution_count": null,
   "metadata": {
    "trusted": true
   },
   "outputs": [],
   "source": []
  }
 ],
 "metadata": {
  "kaggle": {
   "accelerator": "nvidiaTeslaT4",
   "dataSources": [
    {
     "datasetId": 6345867,
     "sourceId": 10258327,
     "sourceType": "datasetVersion"
    },
    {
     "modelId": 106709,
     "modelInstanceId": 177671,
     "sourceId": 208397,
     "sourceType": "modelInstanceVersion"
    },
    {
     "modelId": 200608,
     "modelInstanceId": 178312,
     "sourceId": 209139,
     "sourceType": "modelInstanceVersion"
    },
    {
     "isSourceIdPinned": true,
     "modelId": 103067,
     "modelInstanceId": 176431,
     "sourceId": 206950,
     "sourceType": "modelInstanceVersion"
    }
   ],
   "dockerImageVersionId": 30822,
   "isGpuEnabled": true,
   "isInternetEnabled": true,
   "language": "python",
   "sourceType": "notebook"
  },
  "kernelspec": {
   "display_name": "Python 3",
   "language": "python",
   "name": "python3"
  },
  "language_info": {
   "codemirror_mode": {
    "name": "ipython",
    "version": 3
   },
   "file_extension": ".py",
   "mimetype": "text/x-python",
   "name": "python",
   "nbconvert_exporter": "python",
   "pygments_lexer": "ipython3",
   "version": "3.10.12"
  }
 },
 "nbformat": 4,
 "nbformat_minor": 4
}
